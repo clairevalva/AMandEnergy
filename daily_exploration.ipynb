{
 "cells": [
  {
   "cell_type": "code",
   "execution_count": 1,
   "id": "88b1ec49-416a-494c-b67f-d60cd382001f",
   "metadata": {},
   "outputs": [],
   "source": [
    "import os\n",
    "import numpy as np\n",
    "import xarray as xr"
   ]
  },
  {
   "cell_type": "code",
   "execution_count": 2,
   "id": "bb9c2068-fe75-40ce-a6ce-9c980a524772",
   "metadata": {},
   "outputs": [
    {
     "name": "stdout",
     "output_type": "stream",
     "text": [
      "Found 518 years of ERA5 data, starting with 197901 and ending with 202202.\n",
      "Found 1036 files out of an expected 1036.\n"
     ]
    }
   ],
   "source": [
    "era_dir = '/gpfs/fs1/collections/rda/data/ds633.0/e5.oper.an.pl'\n",
    "years = [int(x) for x in sorted(os.listdir(era_dir))]\n",
    "\n",
    "print(f'Found {len(years)} years of ERA5 data, starting with {years[0]} and ending with {years[-1]}.')\n",
    "\n",
    "names = ['u', 'v']\n",
    "\n",
    "ds_fnames = []\n",
    "for year in years:\n",
    "    year_dir = f'{era_dir}/{year}'\n",
    "    fnames = [x for x in os.listdir(year_dir) if x.endswith('nc')]\n",
    "    \n",
    "    for name in names:\n",
    "        fname = [x for x in fnames if f'_{name.lower()}.' in x][0]\n",
    "        ds_fnames.append(f'{year_dir}/{fname}')\n",
    "        \n",
    "print(f'Found {len(ds_fnames)} files out of an expected {len(years) * len(names)}.')"
   ]
  },
  {
   "cell_type": "code",
   "execution_count": 3,
   "id": "da792aae-4005-420d-a554-7254c09e4227",
   "metadata": {},
   "outputs": [
    {
     "data": {
      "text/plain": [
       "<xarray.Dataset>\n",
       "Dimensions:    (latitude: 721, level: 37, longitude: 1440, time: 15755)\n",
       "Coordinates:\n",
       "  * time       (time) datetime64[ns] 1979-01-02 1979-01-03 ... 2022-02-19\n",
       "  * latitude   (latitude) float64 90.0 89.75 89.5 89.25 ... -89.5 -89.75 -90.0\n",
       "  * level      (level) float64 1.0 2.0 3.0 5.0 7.0 ... 925.0 950.0 975.0 1e+03\n",
       "  * longitude  (longitude) float64 0.0 0.25 0.5 0.75 ... 359.0 359.2 359.5 359.8\n",
       "Data variables:\n",
       "    u          (time, level, latitude, longitude) float32 dask.array<shape=(15755, 37, 721, 1440), chunksize=(11, 37, 721, 1440)>\n",
       "    v          (time, level, latitude, longitude) float32 dask.array<shape=(15755, 37, 721, 1440), chunksize=(11, 37, 721, 1440)>"
      ]
     },
     "metadata": {},
     "output_type": "display_data"
    }
   ],
   "source": [
    "with xr.open_mfdataset(ds_fnames, combine='by_coords') as ds:\n",
    "    ds = ds.rename({\n",
    "        'level' : 'level',\n",
    "        'U' : 'u',\n",
    "        'V' : 'v',\n",
    "    }).drop('utc_date')\n",
    "    \n",
    "    # resample to \n",
    "    ds = ds.resample(time='1d').mean()\n",
    "    display(ds)"
   ]
  },
  {
   "cell_type": "code",
   "execution_count": null,
   "id": "2a57856f-1bd4-45fb-939d-322d286b67c0",
   "metadata": {},
   "outputs": [],
   "source": []
  },
  {
   "cell_type": "code",
   "execution_count": 4,
   "id": "e861571e-f894-4a0d-bf3e-217162826a33",
   "metadata": {},
   "outputs": [],
   "source": [
    "u, v = ds['u'], ds['v']\n",
    "\n",
    "u_bar = u.mean('longitude')\n",
    "v_bar = v.mean('longitude')\n",
    "\n",
    "v_prime = v - v_bar\n",
    "u_prime = u - u_bar"
   ]
  },
  {
   "cell_type": "code",
   "execution_count": 5,
   "id": "7b248a63-9159-40ff-a115-8961a6df36b8",
   "metadata": {},
   "outputs": [],
   "source": [
    "EKE = ((u_prime**2 + v_prime**2)/2)"
   ]
  },
  {
   "cell_type": "code",
   "execution_count": 6,
   "id": "18501727-9b63-4133-a5e5-d9232ddcb6e5",
   "metadata": {},
   "outputs": [],
   "source": [
    "ds[\"up\"] = u_prime\n",
    "ds[\"vp\"] = v_prime\n",
    "ds[\"EKE\"] = EKE"
   ]
  },
  {
   "cell_type": "code",
   "execution_count": 7,
   "id": "9bfa4905-7e0e-46b3-9a63-e9b2ea471169",
   "metadata": {},
   "outputs": [],
   "source": [
    "# take zonal means\n",
    "ds = ds.mean('longitude')"
   ]
  },
  {
   "cell_type": "code",
   "execution_count": null,
   "id": "b6812cd6-8b0d-4128-93eb-5fbaa447fe7a",
   "metadata": {},
   "outputs": [
    {
     "name": "stderr",
     "output_type": "stream",
     "text": [
      "/ncar/usr/jupyterhub/envs/pangeo-2019.09.12/lib/python3.7/site-packages/dask/array/numpy_compat.py:41: RuntimeWarning: invalid value encountered in true_divide\n",
      "  x = np.divide(x1, x2, out)\n"
     ]
    }
   ],
   "source": [
    "# force computation so can use the array\n",
    "ds = ds.compute()"
   ]
  },
  {
   "cell_type": "code",
   "execution_count": null,
   "id": "6515376d-2d43-4a99-afef-6615e51c8169",
   "metadata": {},
   "outputs": [],
   "source": [
    "ds.to_netcdf(\"/glade/u/home/cvalva/AMandEnergy/eddy_daily_data.nc\")"
   ]
  },
  {
   "cell_type": "code",
   "execution_count": null,
   "id": "cd4dceac-c003-4b37-b8eb-24a0f21bb7ba",
   "metadata": {},
   "outputs": [],
   "source": []
  }
 ],
 "metadata": {
  "kernelspec": {
   "display_name": "Pangeo (2019.09.12 - py3.7)",
   "language": "python",
   "name": "pangeo-2019.09.12"
  },
  "language_info": {
   "codemirror_mode": {
    "name": "ipython",
    "version": 3
   },
   "file_extension": ".py",
   "mimetype": "text/x-python",
   "name": "python",
   "nbconvert_exporter": "python",
   "pygments_lexer": "ipython3",
   "version": "3.7.3"
  }
 },
 "nbformat": 4,
 "nbformat_minor": 5
}
